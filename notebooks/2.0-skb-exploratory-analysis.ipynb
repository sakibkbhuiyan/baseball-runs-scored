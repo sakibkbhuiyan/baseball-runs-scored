{
 "cells": [
  {
   "cell_type": "markdown",
   "metadata": {},
   "source": [
    "# Import Dependencies  & Initialize Notebook    "
   ]
  },
  {
   "cell_type": "code",
   "execution_count": 1,
   "metadata": {},
   "outputs": [],
   "source": [
    "import pandas as pd \n",
    "import plotly.graph_objects as go\n",
    "import numpy as np\n",
    "import kaleido"
   ]
  },
  {
   "cell_type": "markdown",
   "metadata": {},
   "source": [
    "# Set Global Variables"
   ]
  },
  {
   "cell_type": "code",
   "execution_count": 2,
   "metadata": {},
   "outputs": [],
   "source": [
    "color_palette = {'eerie_black': '#1C2321', 'cadet_gray': '#7D98A1', 'paynes_gray': '#5E6572', 'powder_blue': '#A9B4C2', 'anti_flash_white': '#EEF1EF'}"
   ]
  },
  {
   "cell_type": "markdown",
   "metadata": {},
   "source": [
    "# Import Data "
   ]
  },
  {
   "cell_type": "code",
   "execution_count": 4,
   "metadata": {},
   "outputs": [
    {
     "data": {
      "text/html": [
       "<div>\n",
       "<style scoped>\n",
       "    .dataframe tbody tr th:only-of-type {\n",
       "        vertical-align: middle;\n",
       "    }\n",
       "\n",
       "    .dataframe tbody tr th {\n",
       "        vertical-align: top;\n",
       "    }\n",
       "\n",
       "    .dataframe thead th {\n",
       "        text-align: right;\n",
       "    }\n",
       "</style>\n",
       "<table border=\"1\" class=\"dataframe\">\n",
       "  <thead>\n",
       "    <tr style=\"text-align: right;\">\n",
       "      <th></th>\n",
       "      <th>Year</th>\n",
       "      <th>Date</th>\n",
       "      <th>Era</th>\n",
       "      <th>Visiting_Team_Score</th>\n",
       "      <th>Home_Team_Score</th>\n",
       "    </tr>\n",
       "  </thead>\n",
       "  <tbody>\n",
       "    <tr>\n",
       "      <th>0</th>\n",
       "      <td>1871</td>\n",
       "      <td>1871-05-04</td>\n",
       "      <td>Pre-1900</td>\n",
       "      <td>0</td>\n",
       "      <td>2</td>\n",
       "    </tr>\n",
       "    <tr>\n",
       "      <th>1</th>\n",
       "      <td>1871</td>\n",
       "      <td>1871-05-05</td>\n",
       "      <td>Pre-1900</td>\n",
       "      <td>20</td>\n",
       "      <td>18</td>\n",
       "    </tr>\n",
       "    <tr>\n",
       "      <th>2</th>\n",
       "      <td>1871</td>\n",
       "      <td>1871-05-06</td>\n",
       "      <td>Pre-1900</td>\n",
       "      <td>12</td>\n",
       "      <td>4</td>\n",
       "    </tr>\n",
       "    <tr>\n",
       "      <th>3</th>\n",
       "      <td>1871</td>\n",
       "      <td>1871-05-08</td>\n",
       "      <td>Pre-1900</td>\n",
       "      <td>12</td>\n",
       "      <td>14</td>\n",
       "    </tr>\n",
       "    <tr>\n",
       "      <th>4</th>\n",
       "      <td>1871</td>\n",
       "      <td>1871-05-09</td>\n",
       "      <td>Pre-1900</td>\n",
       "      <td>9</td>\n",
       "      <td>5</td>\n",
       "    </tr>\n",
       "  </tbody>\n",
       "</table>\n",
       "</div>"
      ],
      "text/plain": [
       "   Year        Date       Era  Visiting_Team_Score  Home_Team_Score\n",
       "0  1871  1871-05-04  Pre-1900                    0                2\n",
       "1  1871  1871-05-05  Pre-1900                   20               18\n",
       "2  1871  1871-05-06  Pre-1900                   12                4\n",
       "3  1871  1871-05-08  Pre-1900                   12               14\n",
       "4  1871  1871-05-09  Pre-1900                    9                5"
      ]
     },
     "metadata": {},
     "output_type": "display_data"
    }
   ],
   "source": [
    "file_path = '../data/processed/game_log_all.csv'\n",
    "\n",
    "df = pd.read_csv(file_path, index_col = False)\n",
    "\n",
    "display(df.head())"
   ]
  },
  {
   "cell_type": "code",
   "execution_count": 5,
   "metadata": {},
   "outputs": [
    {
     "name": "stdout",
     "output_type": "stream",
     "text": [
      "(228779, 6)\n",
      "year                            int64\n",
      "date                   datetime64[ns]\n",
      "era                          category\n",
      "visiting_team_score             int64\n",
      "home_team_score                 int64\n",
      "score_difference                int64\n",
      "dtype: object\n"
     ]
    },
    {
     "data": {
      "text/html": [
       "<div>\n",
       "<style scoped>\n",
       "    .dataframe tbody tr th:only-of-type {\n",
       "        vertical-align: middle;\n",
       "    }\n",
       "\n",
       "    .dataframe tbody tr th {\n",
       "        vertical-align: top;\n",
       "    }\n",
       "\n",
       "    .dataframe thead th {\n",
       "        text-align: right;\n",
       "    }\n",
       "</style>\n",
       "<table border=\"1\" class=\"dataframe\">\n",
       "  <thead>\n",
       "    <tr style=\"text-align: right;\">\n",
       "      <th></th>\n",
       "      <th>year</th>\n",
       "      <th>date</th>\n",
       "      <th>era</th>\n",
       "      <th>visiting_team_score</th>\n",
       "      <th>home_team_score</th>\n",
       "      <th>score_difference</th>\n",
       "    </tr>\n",
       "  </thead>\n",
       "  <tbody>\n",
       "    <tr>\n",
       "      <th>0</th>\n",
       "      <td>1871</td>\n",
       "      <td>1871-05-04</td>\n",
       "      <td>Pre-1900</td>\n",
       "      <td>0</td>\n",
       "      <td>2</td>\n",
       "      <td>2</td>\n",
       "    </tr>\n",
       "    <tr>\n",
       "      <th>1</th>\n",
       "      <td>1871</td>\n",
       "      <td>1871-05-05</td>\n",
       "      <td>Pre-1900</td>\n",
       "      <td>20</td>\n",
       "      <td>18</td>\n",
       "      <td>2</td>\n",
       "    </tr>\n",
       "    <tr>\n",
       "      <th>2</th>\n",
       "      <td>1871</td>\n",
       "      <td>1871-05-06</td>\n",
       "      <td>Pre-1900</td>\n",
       "      <td>12</td>\n",
       "      <td>4</td>\n",
       "      <td>8</td>\n",
       "    </tr>\n",
       "    <tr>\n",
       "      <th>3</th>\n",
       "      <td>1871</td>\n",
       "      <td>1871-05-08</td>\n",
       "      <td>Pre-1900</td>\n",
       "      <td>12</td>\n",
       "      <td>14</td>\n",
       "      <td>2</td>\n",
       "    </tr>\n",
       "    <tr>\n",
       "      <th>4</th>\n",
       "      <td>1871</td>\n",
       "      <td>1871-05-09</td>\n",
       "      <td>Pre-1900</td>\n",
       "      <td>9</td>\n",
       "      <td>5</td>\n",
       "      <td>4</td>\n",
       "    </tr>\n",
       "  </tbody>\n",
       "</table>\n",
       "</div>"
      ],
      "text/plain": [
       "   year       date       era  visiting_team_score  home_team_score  \\\n",
       "0  1871 1871-05-04  Pre-1900                    0                2   \n",
       "1  1871 1871-05-05  Pre-1900                   20               18   \n",
       "2  1871 1871-05-06  Pre-1900                   12                4   \n",
       "3  1871 1871-05-08  Pre-1900                   12               14   \n",
       "4  1871 1871-05-09  Pre-1900                    9                5   \n",
       "\n",
       "   score_difference  \n",
       "0                 2  \n",
       "1                 2  \n",
       "2                 8  \n",
       "3                 2  \n",
       "4                 4  "
      ]
     },
     "metadata": {},
     "output_type": "display_data"
    }
   ],
   "source": [
    "selected_columns = ['Year', 'Date', 'Era', 'Visiting_Team_Score', 'Home_Team_Score']\n",
    "df = df[selected_columns]\n",
    "\n",
    "## Convert column names to lower snake case\n",
    "df.columns = [col.lower().replace(' ', '_') for col in df.columns]\n",
    "\n",
    "df['date'] = pd.to_datetime(df['date'])\n",
    "df['score_difference'] = abs(df['visiting_team_score'] - df['home_team_score'])\n",
    "\n",
    "era_labels = ['Pre-1900', 'Dead Ball era', 'Live Ball era', 'Integration era', 'Expansion era', 'Free Agent era', 'Steroid era', 'Contemporary era']\n",
    "df['era'] = pd.Categorical(df['era'], categories = era_labels, ordered = True)\n",
    "\n",
    "print(df.shape)\n",
    "print(df.dtypes)\n",
    "display(df.head())"
   ]
  },
  {
   "cell_type": "code",
   "execution_count": 6,
   "metadata": {},
   "outputs": [
    {
     "data": {
      "text/html": [
       "<div>\n",
       "<style scoped>\n",
       "    .dataframe tbody tr th:only-of-type {\n",
       "        vertical-align: middle;\n",
       "    }\n",
       "\n",
       "    .dataframe tbody tr th {\n",
       "        vertical-align: top;\n",
       "    }\n",
       "\n",
       "    .dataframe thead th {\n",
       "        text-align: right;\n",
       "    }\n",
       "</style>\n",
       "<table border=\"1\" class=\"dataframe\">\n",
       "  <thead>\n",
       "    <tr style=\"text-align: right;\">\n",
       "      <th></th>\n",
       "      <th>era</th>\n",
       "      <th>visiting_team_score</th>\n",
       "      <th>home_team_score</th>\n",
       "      <th>game_count</th>\n",
       "    </tr>\n",
       "  </thead>\n",
       "  <tbody>\n",
       "    <tr>\n",
       "      <th>0</th>\n",
       "      <td>Pre-1900</td>\n",
       "      <td>0</td>\n",
       "      <td>0</td>\n",
       "      <td>51.0</td>\n",
       "    </tr>\n",
       "    <tr>\n",
       "      <th>1</th>\n",
       "      <td>Pre-1900</td>\n",
       "      <td>0</td>\n",
       "      <td>1</td>\n",
       "      <td>130.0</td>\n",
       "    </tr>\n",
       "    <tr>\n",
       "      <th>2</th>\n",
       "      <td>Pre-1900</td>\n",
       "      <td>0</td>\n",
       "      <td>2</td>\n",
       "      <td>123.0</td>\n",
       "    </tr>\n",
       "    <tr>\n",
       "      <th>3</th>\n",
       "      <td>Pre-1900</td>\n",
       "      <td>0</td>\n",
       "      <td>3</td>\n",
       "      <td>144.0</td>\n",
       "    </tr>\n",
       "    <tr>\n",
       "      <th>4</th>\n",
       "      <td>Pre-1900</td>\n",
       "      <td>0</td>\n",
       "      <td>4</td>\n",
       "      <td>129.0</td>\n",
       "    </tr>\n",
       "  </tbody>\n",
       "</table>\n",
       "</div>"
      ],
      "text/plain": [
       "        era  visiting_team_score  home_team_score  game_count\n",
       "0  Pre-1900                    0                0        51.0\n",
       "1  Pre-1900                    0                1       130.0\n",
       "2  Pre-1900                    0                2       123.0\n",
       "3  Pre-1900                    0                3       144.0\n",
       "4  Pre-1900                    0                4       129.0"
      ]
     },
     "execution_count": 6,
     "metadata": {},
     "output_type": "execute_result"
    }
   ],
   "source": [
    "group_columns = ['era', 'visiting_team_score', 'home_team_score']\n",
    "\n",
    "df_agg = df.groupby(group_columns).agg(\n",
    "    {\n",
    "        'year': 'count'\n",
    "    }\n",
    ")\n",
    "\n",
    "df_agg.reset_index(drop = False, inplace = True)\n",
    "df_agg.rename(columns = {'year': 'game_count'}, inplace = True)\n",
    "\n",
    "## Replace 0's with NaN\n",
    "df_agg['game_count'] = df_agg['game_count'].replace(0, np.nan)\n",
    "\n",
    "df_agg.head()"
   ]
  },
  {
   "cell_type": "code",
   "execution_count": 7,
   "metadata": {},
   "outputs": [],
   "source": [
    "unique_eras = df_agg['era'].unique().tolist()"
   ]
  },
  {
   "cell_type": "code",
   "execution_count": 8,
   "metadata": {},
   "outputs": [],
   "source": [
    "chosen_era = unique_eras[5]\n",
    "df_agg_filtered = df_agg[df_agg['era'] == chosen_era]\n",
    "df_filtered = df[df['era'] == chosen_era]"
   ]
  },
  {
   "cell_type": "markdown",
   "metadata": {},
   "source": [
    "# Create Plots"
   ]
  },
  {
   "cell_type": "code",
   "execution_count": 30,
   "metadata": {},
   "outputs": [],
   "source": [
    "axis_upper_bound = max(max(df_agg['home_team_score']), max(df_agg['visiting_team_score']))\n",
    "\n",
    "for era in unique_eras: \n",
    "    df_agg_filtered = df_agg[df_agg['era'] == era]\n",
    "\n",
    "    ## Create a heatmap plot\n",
    "    fig = go.Figure(data=go.Heatmap(\n",
    "            x=df_agg_filtered['home_team_score'].astype(object),\n",
    "            y=df_agg_filtered['visiting_team_score'].astype(object),\n",
    "            z=df_agg_filtered['game_count'],\n",
    "            colorscale='Magma',  # You can choose any colorscale you prefer\n",
    "            hoverongaps = False))\n",
    "\n",
    "    ## Set axis labels and title\n",
    "    fig.update_layout(\n",
    "        title=f\"{era}\",\n",
    "        xaxis_title='Home Team Score',\n",
    "        yaxis_title='Visiting Team Score',\n",
    "        width=1000,\n",
    "        height=1000,\n",
    "        yaxis=dict(\n",
    "            range = [axis_upper_bound, -0.5], \n",
    "            dtick = 1, \n",
    "            showgrid = False, \n",
    "            zeroline = False, \n",
    "            side = 'left'\n",
    "            ),\n",
    "        xaxis = dict(\n",
    "            range = [-0.5, axis_upper_bound], \n",
    "            side = 'top', \n",
    "            dtick = 1, \n",
    "            tickangle=0, \n",
    "            showgrid = False, \n",
    "            zeroline = False\n",
    "            ), \n",
    "        plot_bgcolor=color_palette['paynes_gray'], \n",
    "        font=dict(family=\"Courier New\", size=14, color=\"black\"), \n",
    "        title_x = 0.5, \n",
    "        title_xanchor = 'center', \n",
    "        title_y = 0.98\n",
    "    )\n",
    "\n",
    "    fig.update_traces(showscale = False)\n",
    "    file_path = era.lower().replace(\" \", \"_\")\n",
    "    file_path = f\"../reports/figures/heatmap_{file_path}.png\"\n",
    "    fig.write_image(file_path)"
   ]
  },
  {
   "cell_type": "code",
   "execution_count": 23,
   "metadata": {},
   "outputs": [
    {
     "data": {
      "text/plain": [
       "9.0"
      ]
     },
     "execution_count": 23,
     "metadata": {},
     "output_type": "execute_result"
    }
   ],
   "source": [
    "df['score_difference'].quantile(0.95)"
   ]
  },
  {
   "cell_type": "code",
   "execution_count": 27,
   "metadata": {},
   "outputs": [],
   "source": [
    "# axis_upper_bound = max(df['score_difference'])\n",
    "axis_upper_bound = df['score_difference'].quantile(q = 0.99)\n",
    "for era in unique_eras:\n",
    "    df_filtered = df[df['era'] == era]\n",
    "    \n",
    "    ## Create a density plot of score difference\n",
    "    fig = go.Figure(data=go.Histogram(x=df_filtered['score_difference'], histnorm='density', marker=dict(color=color_palette['anti_flash_white'])))\n",
    "\n",
    "    fig.update_layout(\n",
    "        title= f\"{era}\", \n",
    "        xaxis_title='Score Difference',\n",
    "        yaxis_title='Density',\n",
    "        width=1000,\n",
    "        height=400,\n",
    "        xaxis = dict(range = [0, axis_upper_bound], dtick = 1),\n",
    "        plot_bgcolor=color_palette['paynes_gray'], \n",
    "        font=dict(family=\"Courier New\", size=14, color=\"black\"), title_x = 0.5, \n",
    "        title_xanchor = 'center'\n",
    "    )\n",
    "    file_path = era.lower().replace(\" \", \"_\")\n",
    "    file_path = f\"../reports/figures/hist_{file_path}.png\"\n",
    "    fig.write_image(file_path)\n"
   ]
  }
 ],
 "metadata": {
  "kernelspec": {
   "display_name": "Python 3 (ipykernel)",
   "language": "python",
   "name": "python3"
  },
  "language_info": {
   "codemirror_mode": {
    "name": "ipython",
    "version": 3
   },
   "file_extension": ".py",
   "mimetype": "text/x-python",
   "name": "python",
   "nbconvert_exporter": "python",
   "pygments_lexer": "ipython3",
   "version": "3.7.12"
  }
 },
 "nbformat": 4,
 "nbformat_minor": 2
}
